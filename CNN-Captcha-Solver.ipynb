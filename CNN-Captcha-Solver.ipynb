{
 "cells": [
  {
   "cell_type": "markdown",
   "metadata": {},
   "source": [
    "# Solving Complex Captcha Using CNN"
   ]
  },
  {
   "cell_type": "markdown",
   "metadata": {},
   "source": [
    "## 1. Introduction"
   ]
  },
  {
   "cell_type": "markdown",
   "metadata": {},
   "source": [
    "**What does CAPTCHA mean?**\n",
    "\n",
    ">CAPTCHA stands for Completely Automated Public Turing test to tell Computers and Humans Apart. In other words, CAPTCHA determines whether the user is real or a spam robot. CAPTCHAs stretch or manipulate letters and numbers, and rely on human ability to determine which symbols they are."
   ]
  },
  {
   "cell_type": "markdown",
   "metadata": {},
   "source": [
    "## 2. Objective\n",
    "\n",
    ">Given a captcha image our model should be able to detect captcha text correctly"
   ]
  },
  {
   "cell_type": "markdown",
   "metadata": {},
   "source": [
    "## 3. Prepare Problem\n",
    "1. Load libraries\n",
    "2. Load dataset"
   ]
  },
  {
   "cell_type": "markdown",
   "metadata": {},
   "source": [
    "### 3.1 Import Libraries"
   ]
  },
  {
   "cell_type": "code",
   "execution_count": 4,
   "metadata": {},
   "outputs": [
    {
     "name": "stderr",
     "output_type": "stream",
     "text": [
      "Using TensorFlow backend.\n"
     ]
    }
   ],
   "source": [
    "import warnings\n",
    "warnings.filterwarnings('ignore')\n",
    "\n",
    "import os\n",
    "import re\n",
    "import cv2\n",
    "import math\n",
    "import glob\n",
    "import keras\n",
    "import random\n",
    "import collections\n",
    "import numpy as np\n",
    "import pandas as pd\n",
    "from datetime import datetime\n",
    "from PIL import Image\n",
    "from tqdm import tqdm\n",
    "import tensorflow as tf\n",
    "from keras.preprocessing.image import img_to_array\n",
    "from sklearn.preprocessing import MultiLabelBinarizer\n",
    "from sklearn.model_selection import train_test_split\n",
    "from keras.preprocessing.image import ImageDataGenerator\n",
    "from keras.optimizers import Adam\n",
    "import matplotlib.pyplot as plt\n",
    "from keras.utils import Sequence\n",
    "from scipy.misc import imread\n",
    "from keras import backend as K\n",
    "from tensorflow.python.client import device_lib\n",
    "# from IPython.display import clear_output\n",
    "\n",
    "import matplotlib\n",
    "matplotlib.use(\"Agg\")\n",
    "%matplotlib inline"
   ]
  },
  {
   "cell_type": "markdown",
   "metadata": {},
   "source": [
    "### 3.2 Load Dataset\n",
    "\n",
    "* All captcha images are stored in a folder names set4\n",
    "* Name of each image file is its `{captcha_value}.jpg`"
   ]
  },
  {
   "cell_type": "code",
   "execution_count": 6,
   "metadata": {},
   "outputs": [],
   "source": [
    "## utility func to create data frame of captcha image names and corresponding labels\n",
    "def load_data(img_path):\n",
    "    print(\"Loading Captcha Images.\")\n",
    "    captchas = []\n",
    "    for x in tqdm(os.listdir(img_path)):\n",
    "        if x != '.DS_Store':\n",
    "            label = x.split(\".\")[0]\n",
    "            captchas.append(label)\n",
    "    \n",
    "    df = pd.DataFrame(captchas, columns=['label']) \n",
    "    df['image_path'] = df['label'].apply(lambda x: x + '.jpg')\n",
    "    return df.head(40000)\n",
    "\n",
    "def get_devices():\n",
    "    print(K.tensorflow_backend._get_available_gpus())\n",
    "    print('*'*100)\n",
    "    print(device_lib.list_local_devices())\n",
    "    \n",
    "    \n",
    "def plot_image(img):\n",
    "    plt.axis(\"off\")\n",
    "    plt.imshow(img)\n",
    "    plt.show()\n"
   ]
  },
  {
   "cell_type": "code",
   "execution_count": 7,
   "metadata": {},
   "outputs": [
    {
     "name": "stdout",
     "output_type": "stream",
     "text": [
      "['/job:localhost/replica:0/task:0/device:GPU:0']\n",
      "****************************************************************************************************\n",
      "[name: \"/device:CPU:0\"\n",
      "device_type: \"CPU\"\n",
      "memory_limit: 268435456\n",
      "locality {\n",
      "}\n",
      "incarnation: 2325678234084590586\n",
      ", name: \"/device:GPU:0\"\n",
      "device_type: \"GPU\"\n",
      "memory_limit: 355467264\n",
      "locality {\n",
      "  bus_id: 1\n",
      "}\n",
      "incarnation: 1084925212961095497\n",
      "physical_device_desc: \"device: 0, name: Tesla K80, pci bus id: 0000:00:04.0, compute capability: 3.7\"\n",
      "]\n"
     ]
    }
   ],
   "source": [
    "## check if your device has GPU support or not\n",
    "get_devices()"
   ]
  },
  {
   "cell_type": "code",
   "execution_count": 8,
   "metadata": {},
   "outputs": [
    {
     "name": "stderr",
     "output_type": "stream",
     "text": [
      "\r",
      "  0%|          | 0/214709 [00:00<?, ?it/s]"
     ]
    },
    {
     "name": "stdout",
     "output_type": "stream",
     "text": [
      "Loading Captcha Images.\n"
     ]
    },
    {
     "name": "stderr",
     "output_type": "stream",
     "text": [
      "100%|██████████| 214709/214709 [00:00<00:00, 1041921.71it/s]\n"
     ]
    }
   ],
   "source": [
    "img_path = 'set4/'\n",
    "\n",
    "df = load_data(img_path)"
   ]
  },
  {
   "cell_type": "markdown",
   "metadata": {},
   "source": [
    "### 4. Summarize the Dataset\n",
    "#### 4.a) Descriptive statistics\n",
    "1. Dimensions of the dataset.\n",
    "2. Peek at the data itself.\n",
    "3. Statistical summary of all attributes.\n",
    "4. Breakdown of the data by the class variable.\n",
    "\n",
    "#### 4.b) Data visualizations"
   ]
  },
  {
   "cell_type": "code",
   "execution_count": 17,
   "metadata": {},
   "outputs": [
    {
     "data": {
      "image/png": "[encoded data removed]",
      "text/plain": [
       "<Figure size 432x288 with 1 Axes>"
      ]
     },
     "metadata": {
      "needs_background": "light"
     },
     "output_type": "display_data"
    },
    {
     "data": {
      "image/png": "[encoded data removed]",
      "text/plain": [
       "<Figure size 432x288 with 1 Axes>"
      ]
     },
     "metadata": {
      "needs_background": "light"
     },
     "output_type": "display_data"
    },
    {
     "data": {
      "image/png": "[encoded data removed]",
      "text/plain": [
       "<Figure size 432x288 with 1 Axes>"
      ]
     },
     "metadata": {
      "needs_background": "light"
     },
     "output_type": "display_data"
    },
    {
     "data": {
      "image/png": "[encoded data removed]",
      "text/plain": [
       "<Figure size 432x288 with 1 Axes>"
      ]
     },
     "metadata": {
      "needs_background": "light"
     },
     "output_type": "display_data"
    },
    {
     "data": {
      "image/png": "[encoded data removed]",
      "text/plain": [
       "<Figure size 432x288 with 1 Axes>"
      ]
     },
     "metadata": {
      "needs_background": "light"
     },
     "output_type": "display_data"
    }
   ],
   "source": [
    "images = df['image_path'].values[:5]\n",
    "\n",
    "for image in images:\n",
    "    img = np.array(Image.open('set4/{}'.format(image)))\n",
    "    plot_image(img)"
   ]
  },
  {
   "cell_type": "markdown",
   "metadata": {},
   "source": [
    "#### 4.a.1) Dimensions of dataset"
   ]
  },
  {
   "cell_type": "code",
   "execution_count": 18,
   "metadata": {},
   "outputs": [
    {
     "name": "stdout",
     "output_type": "stream",
     "text": [
      "(40000, 2)\n"
     ]
    }
   ],
   "source": [
    "# 1. Dimensions of dataset\n",
    "print(df.shape)"
   ]
  },
  {
   "cell_type": "markdown",
   "metadata": {},
   "source": [
    "#### 4.a.2) Peek at the data"
   ]
  },
  {
   "cell_type": "code",
   "execution_count": 19,
   "metadata": {},
   "outputs": [
    {
     "data": {
      "text/html": [
       "<div>\n",
       "<style scoped>\n",
       "    .dataframe tbody tr th:only-of-type {\n",
       "        vertical-align: middle;\n",
       "    }\n",
       "\n",
       "    .dataframe tbody tr th {\n",
       "        vertical-align: top;\n",
       "    }\n",
       "\n",
       "    .dataframe thead th {\n",
       "        text-align: right;\n",
       "    }\n",
       "</style>\n",
       "<table border=\"1\" class=\"dataframe\">\n",
       "  <thead>\n",
       "    <tr style=\"text-align: right;\">\n",
       "      <th></th>\n",
       "      <th>label</th>\n",
       "      <th>image_path</th>\n",
       "    </tr>\n",
       "  </thead>\n",
       "  <tbody>\n",
       "    <tr>\n",
       "      <th>0</th>\n",
       "      <td>742400</td>\n",
       "      <td>742400.jpg</td>\n",
       "    </tr>\n",
       "    <tr>\n",
       "      <th>1</th>\n",
       "      <td>011562</td>\n",
       "      <td>011562.jpg</td>\n",
       "    </tr>\n",
       "    <tr>\n",
       "      <th>2</th>\n",
       "      <td>031334</td>\n",
       "      <td>031334.jpg</td>\n",
       "    </tr>\n",
       "    <tr>\n",
       "      <th>3</th>\n",
       "      <td>953274</td>\n",
       "      <td>953274.jpg</td>\n",
       "    </tr>\n",
       "    <tr>\n",
       "      <th>4</th>\n",
       "      <td>230731</td>\n",
       "      <td>230731.jpg</td>\n",
       "    </tr>\n",
       "  </tbody>\n",
       "</table>\n",
       "</div>"
      ],
      "text/plain": [
       "    label  image_path\n",
       "0  742400  742400.jpg\n",
       "1  011562  011562.jpg\n",
       "2  031334  031334.jpg\n",
       "3  953274  953274.jpg\n",
       "4  230731  230731.jpg"
      ]
     },
     "execution_count": 19,
     "metadata": {},
     "output_type": "execute_result"
    }
   ],
   "source": [
    "# 2. Peek at the data\n",
    "df.head(5)"
   ]
  },
  {
   "cell_type": "markdown",
   "metadata": {},
   "source": [
    "#### 4.a.3) Statistical Summary"
   ]
  },
  {
   "cell_type": "code",
   "execution_count": 20,
   "metadata": {},
   "outputs": [
    {
     "data": {
      "text/html": [
       "<div>\n",
       "<style scoped>\n",
       "    .dataframe tbody tr th:only-of-type {\n",
       "        vertical-align: middle;\n",
       "    }\n",
       "\n",
       "    .dataframe tbody tr th {\n",
       "        vertical-align: top;\n",
       "    }\n",
       "\n",
       "    .dataframe thead th {\n",
       "        text-align: right;\n",
       "    }\n",
       "</style>\n",
       "<table border=\"1\" class=\"dataframe\">\n",
       "  <thead>\n",
       "    <tr style=\"text-align: right;\">\n",
       "      <th></th>\n",
       "      <th>label</th>\n",
       "      <th>image_path</th>\n",
       "    </tr>\n",
       "  </thead>\n",
       "  <tbody>\n",
       "    <tr>\n",
       "      <th>count</th>\n",
       "      <td>40000</td>\n",
       "      <td>40000</td>\n",
       "    </tr>\n",
       "    <tr>\n",
       "      <th>unique</th>\n",
       "      <td>40000</td>\n",
       "      <td>40000</td>\n",
       "    </tr>\n",
       "    <tr>\n",
       "      <th>top</th>\n",
       "      <td>617730</td>\n",
       "      <td>361603.jpg</td>\n",
       "    </tr>\n",
       "    <tr>\n",
       "      <th>freq</th>\n",
       "      <td>1</td>\n",
       "      <td>1</td>\n",
       "    </tr>\n",
       "  </tbody>\n",
       "</table>\n",
       "</div>"
      ],
      "text/plain": [
       "         label  image_path\n",
       "count    40000       40000\n",
       "unique   40000       40000\n",
       "top     617730  361603.jpg\n",
       "freq         1           1"
      ]
     },
     "execution_count": 20,
     "metadata": {},
     "output_type": "execute_result"
    }
   ],
   "source": [
    "# 3. Statistical summary of all attributes.\n",
    "df.describe()"
   ]
  },
  {
   "cell_type": "code",
   "execution_count": 21,
   "metadata": {},
   "outputs": [
    {
     "name": "stdout",
     "output_type": "stream",
     "text": [
      "<class 'pandas.core.frame.DataFrame'>\n",
      "RangeIndex: 40000 entries, 0 to 39999\n",
      "Data columns (total 2 columns):\n",
      "label         40000 non-null object\n",
      "image_path    40000 non-null object\n",
      "dtypes: object(2)\n",
      "memory usage: 625.1+ KB\n"
     ]
    }
   ],
   "source": [
    "df.info()"
   ]
  },
  {
   "cell_type": "markdown",
   "metadata": {},
   "source": [
    "#### Observations:\n",
    "* Shape of our dataset is (214709, 2)\n",
    "* Dataset do not contain any null values"
   ]
  },
  {
   "cell_type": "markdown",
   "metadata": {},
   "source": [
    "### 5.1 Split-out  dataset"
   ]
  },
  {
   "cell_type": "code",
   "execution_count": 22,
   "metadata": {},
   "outputs": [],
   "source": [
    "y = df['label']\n",
    "X = df.drop(['label'], axis=1)"
   ]
  },
  {
   "cell_type": "code",
   "execution_count": 23,
   "metadata": {},
   "outputs": [],
   "source": [
    "X_train, X_test, y_train, y_test = train_test_split( X, y, test_size=0.3, random_state=42 )"
   ]
  },
  {
   "cell_type": "code",
   "execution_count": 24,
   "metadata": {},
   "outputs": [],
   "source": [
    "X_train['label'] = y_train\n",
    "X_test['label'] = y_test"
   ]
  },
  {
   "cell_type": "code",
   "execution_count": 25,
   "metadata": {},
   "outputs": [
    {
     "data": {
      "text/html": [
       "<div>\n",
       "<style scoped>\n",
       "    .dataframe tbody tr th:only-of-type {\n",
       "        vertical-align: middle;\n",
       "    }\n",
       "\n",
       "    .dataframe tbody tr th {\n",
       "        vertical-align: top;\n",
       "    }\n",
       "\n",
       "    .dataframe thead th {\n",
       "        text-align: right;\n",
       "    }\n",
       "</style>\n",
       "<table border=\"1\" class=\"dataframe\">\n",
       "  <thead>\n",
       "    <tr style=\"text-align: right;\">\n",
       "      <th></th>\n",
       "      <th>image_path</th>\n",
       "      <th>label</th>\n",
       "    </tr>\n",
       "  </thead>\n",
       "  <tbody>\n",
       "    <tr>\n",
       "      <th>38015</th>\n",
       "      <td>425068.jpg</td>\n",
       "      <td>425068</td>\n",
       "    </tr>\n",
       "    <tr>\n",
       "      <th>2281</th>\n",
       "      <td>207387.jpg</td>\n",
       "      <td>207387</td>\n",
       "    </tr>\n",
       "  </tbody>\n",
       "</table>\n",
       "</div>"
      ],
      "text/plain": [
       "       image_path   label\n",
       "38015  425068.jpg  425068\n",
       "2281   207387.jpg  207387"
      ]
     },
     "execution_count": 25,
     "metadata": {},
     "output_type": "execute_result"
    }
   ],
   "source": [
    "X_train.head(2)"
   ]
  },
  {
   "cell_type": "markdown",
   "metadata": {},
   "source": [
    "#### saving train and test dataframes"
   ]
  },
  {
   "cell_type": "code",
   "execution_count": 26,
   "metadata": {},
   "outputs": [],
   "source": [
    "X_train.to_csv('train_df.csv')\n",
    "X_test.to_csv('test_df.csv')"
   ]
  },
  {
   "cell_type": "code",
   "execution_count": 27,
   "metadata": {},
   "outputs": [],
   "source": [
    "IMAGE_DIMS = (100, 100, 3)\n",
    "BATCH_SIZE = 50\n",
    "EPOCHS = 25\n",
    "steps_per_epoch = int(np.ceil(X_train.shape[0]/BATCH_SIZE))"
   ]
  },
  {
   "cell_type": "code",
   "execution_count": 28,
   "metadata": {},
   "outputs": [],
   "source": [
    "# variables to encode labels\n",
    "train_list = [a for a in \"0123456789\"]\n",
    "len_train_list = len(train_list)\n",
    "train_dict = dict(zip(range(0, len(train_list)), train_list))\n",
    "train_dict.update({v: k for k, v in train_dict.items()})\n",
    "temp_list = [0 for i in range(0, len(train_list) * 6)]"
   ]
  },
  {
   "cell_type": "markdown",
   "metadata": {},
   "source": [
    "#### Creating Sequence Generator"
   ]
  },
  {
   "cell_type": "code",
   "execution_count": 29,
   "metadata": {},
   "outputs": [],
   "source": [
    "# utility func to create a sequence generator for batch processing data\n",
    "\n",
    "class DataSequence(Sequence):\n",
    "    \"\"\"\n",
    "    Keras Sequence object to train a model on larger-than-memory data.\n",
    "    \"\"\"\n",
    "    def __init__(self, df, batch_size, mode='train'):\n",
    "        self.df = df # your pandas dataframe\n",
    "        self.bsz = batch_size # batch size\n",
    "        self.mode = mode # shuffle when in train mode\n",
    "\n",
    "        # Take labels and a list of image locations in memory\n",
    "        self.labels = self.df['label'].values\n",
    "        self.im_list = self.df['image_path'].tolist()\n",
    "\n",
    "    def __len__(self):\n",
    "        # compute number of batches to yield\n",
    "        return int(math.ceil(len(self.df) / float(self.bsz)))\n",
    "\n",
    "    def on_epoch_end(self):\n",
    "        # Shuffles indexes after each epoch if in training mode\n",
    "        self.indexes = range(len(self.im_list))\n",
    "        if self.mode == 'train':\n",
    "            self.indexes = random.sample(self.indexes, k=len(self.indexes))\n",
    "\n",
    "    def get_batch_labels(self, idx):\n",
    "        # Fetch a batch of labels\n",
    "        labels = []\n",
    "        temp_labels = self.labels[idx * self.bsz: (idx + 1) * self.bsz]\n",
    "        for lab in temp_labels:\n",
    "            label = list(temp_list)\n",
    "            for index, l in enumerate(lab):\n",
    "                label[train_dict[l] + (index * len_train_list)] = 1\n",
    "            labels.append(label)\n",
    "        return np.array(labels)\n",
    "\n",
    "    def get_batch_features(self, idx):\n",
    "        # Fetch a batch of inputs\n",
    "        batch_images = [] \n",
    "        for im in self.im_list[idx * self.bsz: (1 + idx) * self.bsz]:\n",
    "            image = imread('set4/' + im)\n",
    "            image = cv2.resize(image, (IMAGE_DIMS[1], IMAGE_DIMS[0]))\n",
    "            image = img_to_array(image)\n",
    "            batch_images.append(image / 255.0)\n",
    "        return np.array(batch_images)\n",
    "        \n",
    "\n",
    "    def __getitem__(self, idx):\n",
    "        batch_x = self.get_batch_features(idx)\n",
    "        batch_y = self.get_batch_labels(idx)\n",
    "        return batch_x, batch_y"
   ]
  },
  {
   "cell_type": "markdown",
   "metadata": {},
   "source": [
    "### Trying Various CNN Models with different layers and layer attributes"
   ]
  },
  {
   "cell_type": "markdown",
   "metadata": {},
   "source": [
    "### `Model1: 5 CNN Layers + 3*3 kernel + BN + MaxPooling + Dropout + relu `"
   ]
  },
  {
   "cell_type": "code",
   "execution_count": 30,
   "metadata": {},
   "outputs": [],
   "source": [
    "# func to create model1\n",
    "\n",
    "def model1():\n",
    "    # create model\n",
    "    model = keras.Sequential()\n",
    "    # 1_conv\n",
    "    model.add(keras.layers.Conv2D(32, (3, 3), padding=\"same\",\n",
    "                                      input_shape=IMAGE_DIMS))\n",
    "    model.add(keras.layers.Activation(\"relu\"))\n",
    "    model.add(keras.layers.BatchNormalization(axis=-1))\n",
    "    model.add(keras.layers.MaxPooling2D(pool_size=(3, 3)))\n",
    "    model.add(keras.layers.Dropout(0.3))\n",
    "\n",
    "    model.add(keras.layers.Conv2D(64, (3, 3), padding=\"same\"))\n",
    "    # 2_conv\n",
    "    model.add(keras.layers.Activation(\"relu\"))\n",
    "    model.add(keras.layers.BatchNormalization(axis=-1))\n",
    "    model.add(keras.layers.Conv2D(64, (3, 3), padding=\"same\"))\n",
    "    # 3_conv\n",
    "    model.add(keras.layers.Activation(\"relu\"))\n",
    "    model.add(keras.layers.BatchNormalization(axis=-1))\n",
    "    model.add(keras.layers.MaxPooling2D(pool_size=(2, 2)))\n",
    "    model.add(keras.layers.Dropout(0.3))\n",
    "    model.add(keras.layers.Conv2D(128, (3, 3), padding=\"same\"))\n",
    "    # 4_conv\n",
    "    model.add(keras.layers.Activation(\"relu\"))\n",
    "    model.add(keras.layers.BatchNormalization(axis=-1))\n",
    "    model.add(keras.layers.Conv2D(128, (3, 3), padding=\"same\"))\n",
    "    # 5_conv\n",
    "    model.add(keras.layers.Activation(\"relu\"))\n",
    "\n",
    "    model.add(keras.layers.BatchNormalization(axis=-1))\n",
    "    model.add(keras.layers.MaxPooling2D(pool_size=(2, 2)))\n",
    "    model.add(keras.layers.Dropout(0.3))\n",
    "    model.add(keras.layers.Flatten())\n",
    "    # 1 dim\n",
    "\n",
    "    model.add(keras.layers.Dense(1024))\n",
    "    model.add(keras.layers.Activation(\"relu\"))\n",
    "    model.add(keras.layers.BatchNormalization())\n",
    "    model.add(keras.layers.Dropout(0.3))\n",
    "    model.add(keras.layers.Dense(60))\n",
    "    model.add(keras.layers.Activation(\"sigmoid\"))\n",
    "    return model"
   ]
  },
  {
   "cell_type": "code",
   "execution_count": 31,
   "metadata": {},
   "outputs": [
    {
     "name": "stdout",
     "output_type": "stream",
     "text": [
      "WARNING:tensorflow:From /home/rohit-singh/environments/my_env/lib/python3.5/site-packages/keras/backend/tensorflow_backend.py:1259: calling reduce_prod (from tensorflow.python.ops.math_ops) with keep_dims is deprecated and will be removed in a future version.\n",
      "Instructions for updating:\n",
      "keep_dims is deprecated, use keepdims instead\n",
      "WARNING:tensorflow:From /home/rohit-singh/environments/my_env/lib/python3.5/site-packages/keras/backend/tensorflow_backend.py:1344: calling reduce_mean (from tensorflow.python.ops.math_ops) with keep_dims is deprecated and will be removed in a future version.\n",
      "Instructions for updating:\n",
      "keep_dims is deprecated, use keepdims instead\n"
     ]
    }
   ],
   "source": [
    "# compiling model with optimizer, loss and matrics\n",
    "\n",
    "model1 = model1()\n",
    "\n",
    "model1.compile(optimizer='adam',\n",
    "              loss='binary_crossentropy',\n",
    "              metrics=['accuracy'])"
   ]
  },
  {
   "cell_type": "markdown",
   "metadata": {},
   "source": [
    "### Train Model"
   ]
  },
  {
   "cell_type": "code",
   "execution_count": 33,
   "metadata": {},
   "outputs": [],
   "source": [
    "def train_model(model):\n",
    "    sequence = DataSequence(X_train, BATCH_SIZE)\n",
    "    with tf.device(':/gpu'):\n",
    "        model.fit_generator(sequence, verbose=1, epochs=EPOCHS, steps_per_epoch=steps_per_epoch ,use_multiprocessing=True)"
   ]
  },
  {
   "cell_type": "code",
   "execution_count": 34,
   "metadata": {},
   "outputs": [
    {
     "name": "stdout",
     "output_type": "stream",
     "text": [
      "Epoch 1/25\n",
      "560/560 [==============================] - 304s 543ms/step - loss: 0.3101 - acc: 0.8764\n",
      "Epoch 2/25\n",
      "560/560 [==============================] - 64s 115ms/step - loss: 0.1209 - acc: 0.9546\n",
      "Epoch 3/25\n",
      "560/560 [==============================] - 64s 114ms/step - loss: 0.0628 - acc: 0.9790\n",
      "Epoch 4/25\n",
      "560/560 [==============================] - 67s 119ms/step - loss: 0.0432 - acc: 0.9863\n",
      "Epoch 5/25\n",
      "560/560 [==============================] - 63s 113ms/step - loss: 0.0341 - acc: 0.9896\n",
      "Epoch 6/25\n",
      "560/560 [==============================] - 66s 119ms/step - loss: 0.0291 - acc: 0.9911\n",
      "Epoch 7/25\n",
      "560/560 [==============================] - 66s 119ms/step - loss: 0.0255 - acc: 0.9922\n",
      "Epoch 8/25\n",
      "560/560 [==============================] - 66s 117ms/step - loss: 0.0225 - acc: 0.9931\n",
      "Epoch 9/25\n",
      "560/560 [==============================] - 64s 114ms/step - loss: 0.0206 - acc: 0.9936\n",
      "Epoch 10/25\n",
      "560/560 [==============================] - 65s 117ms/step - loss: 0.0196 - acc: 0.9938\n",
      "Epoch 11/25\n",
      "560/560 [==============================] - 64s 115ms/step - loss: 0.0179 - acc: 0.9943\n",
      "Epoch 12/25\n",
      "560/560 [==============================] - 66s 118ms/step - loss: 0.0157 - acc: 0.9949\n",
      "Epoch 13/25\n",
      "560/560 [==============================] - 63s 113ms/step - loss: 0.0144 - acc: 0.9953\n",
      "Epoch 14/25\n",
      "560/560 [==============================] - 66s 118ms/step - loss: 0.0135 - acc: 0.9956\n",
      "Epoch 15/25\n",
      "560/560 [==============================] - 66s 118ms/step - loss: 0.0124 - acc: 0.9959\n",
      "Epoch 16/25\n",
      "560/560 [==============================] - 64s 115ms/step - loss: 0.0115 - acc: 0.9961\n",
      "Epoch 17/25\n",
      "560/560 [==============================] - 66s 117ms/step - loss: 0.0111 - acc: 0.9962\n",
      "Epoch 18/25\n",
      "560/560 [==============================] - 65s 115ms/step - loss: 0.0103 - acc: 0.9965\n",
      "Epoch 19/25\n",
      "560/560 [==============================] - 64s 115ms/step - loss: 0.0094 - acc: 0.9968\n",
      "Epoch 20/25\n",
      "560/560 [==============================] - 66s 118ms/step - loss: 0.0092 - acc: 0.9968\n",
      "Epoch 21/25\n",
      "560/560 [==============================] - 63s 113ms/step - loss: 0.0086 - acc: 0.9971\n",
      "Epoch 22/25\n",
      "560/560 [==============================] - 66s 118ms/step - loss: 0.0087 - acc: 0.9970\n",
      "Epoch 23/25\n",
      "560/560 [==============================] - 66s 117ms/step - loss: 0.0082 - acc: 0.9972\n",
      "Epoch 24/25\n",
      "560/560 [==============================] - 65s 116ms/step - loss: 0.0078 - acc: 0.9973\n",
      "Epoch 25/25\n",
      "560/560 [==============================] - 64s 114ms/step - loss: 0.0072 - acc: 0.9976\n"
     ]
    }
   ],
   "source": [
    "train_model(model1)"
   ]
  },
  {
   "cell_type": "markdown",
   "metadata": {},
   "source": [
    "### Saving Model"
   ]
  },
  {
   "cell_type": "code",
   "execution_count": 36,
   "metadata": {},
   "outputs": [],
   "source": [
    "# util func to save model to disc \n",
    "    \n",
    "def save_model_to_disc(model, name): \n",
    "    # save model\n",
    "    print(\"Saving Model.\")\n",
    "    path = os.getcwd()\n",
    "    print (\"The current working directory is %s\" % path)\n",
    "    # Create models Directory if don't exist\n",
    "    if not os.path.exists(path + '/' + 'models'):\n",
    "        os.mkdir(path + '/' + 'models')\n",
    "        \n",
    "    model_json = model.to_json()\n",
    "    with open(\"models/{}.json\".format(name), \"w\") as json_file:\n",
    "        json_file.write(model_json)\n",
    "        model.save_weights(\"models/{}.h5\".format(name))\n",
    "        model.save_weights(\"models/{}.h5\".format(name))\n",
    "        print(\"Saved model {} to disk.\".format(name))"
   ]
  },
  {
   "cell_type": "code",
   "execution_count": 37,
   "metadata": {},
   "outputs": [
    {
     "name": "stdout",
     "output_type": "stream",
     "text": [
      "Saving Model.\n",
      "The current working directory is /home/rohit-singh/trademark_captcha\n",
      "Saved model tm to disk.\n"
     ]
    }
   ],
   "source": [
    "save_model_to_disc(model1, 'tm')"
   ]
  },
  {
   "cell_type": "markdown",
   "metadata": {},
   "source": [
    "### Load Model"
   ]
  },
  {
   "cell_type": "code",
   "execution_count": 38,
   "metadata": {},
   "outputs": [],
   "source": [
    "def load_model(model_name):\n",
    "    # load model\n",
    "    json_file = open('models/{}.json'.format(model_name), 'r')\n",
    "    loaded_model_json = json_file.read()\n",
    "    model = keras.models.model_from_json(loaded_model_json)\n",
    "    model.load_weights(\"models/{}.h5\".format(model_name))\n",
    "    print(\"Loaded model from disk\")\n",
    "    return model"
   ]
  },
  {
   "cell_type": "code",
   "execution_count": 40,
   "metadata": {},
   "outputs": [],
   "source": [
    "def getTestImages():\n",
    "    test_images = []\n",
    "    test_labels = []\n",
    "    actual_test_labels = []\n",
    "    for path in tqdm(X_test['image_path'].values[:500]):\n",
    "        \n",
    "        label = list(temp_list)\n",
    "        for index, l in enumerate(path.split(\".jpg\")[0]):\n",
    "            label[train_dict[l] + (index * 10)] = 1\n",
    "        test_labels.append(label)\n",
    "        actual_test_labels.append(path.split(\".jpg\")[0])\n",
    "        \n",
    "        image = np.array(Image.open('set4/{}'.format(path)))\n",
    "        image = cv2.resize(image, (IMAGE_DIMS[1], IMAGE_DIMS[0]))\n",
    "        image = img_to_array(image)\n",
    "        test_images.append(image / 255.0)\n",
    "    return np.array(test_images), test_labels, actual_test_labels"
   ]
  },
  {
   "cell_type": "code",
   "execution_count": 41,
   "metadata": {},
   "outputs": [
    {
     "name": "stderr",
     "output_type": "stream",
     "text": [
      "100%|██████████| 500/500 [00:06<00:00, 75.94it/s]\n"
     ]
    }
   ],
   "source": [
    "test_images, test_labels, actual_test_labels = getTestImages()"
   ]
  },
  {
   "cell_type": "code",
   "execution_count": 42,
   "metadata": {},
   "outputs": [
    {
     "name": "stdout",
     "output_type": "stream",
     "text": [
      "Loaded model from disk\n"
     ]
    }
   ],
   "source": [
    "model = load_model('tm')"
   ]
  },
  {
   "cell_type": "code",
   "execution_count": 43,
   "metadata": {},
   "outputs": [
    {
     "name": "stdout",
     "output_type": "stream",
     "text": [
      "500/500 [==============================] - 1s 1ms/step\n",
      "Test accuracy: 0.9850666799545288\n",
      "Test loss: 0.1377260706424713\n"
     ]
    }
   ],
   "source": [
    "model.compile(optimizer='adam',\n",
    "              loss='binary_crossentropy',\n",
    "              metrics=['accuracy'])\n",
    "\n",
    "test_loss, test_acc = model.evaluate(test_images, test_labels)\n",
    "print('Test accuracy:', test_acc)\n",
    "print('Test loss:', test_loss)"
   ]
  },
  {
   "cell_type": "code",
   "execution_count": 44,
   "metadata": {},
   "outputs": [],
   "source": [
    "def predict_label(prediction):\n",
    "    predictions = []\n",
    "    for i in range(len(prediction)):\n",
    "        locs = [[np.argmax(prediction[i][x:x + len_train_list]), x + np.argmax(prediction[i][x:x + len_train_list])]\n",
    "                for x in range(0, 60, len_train_list)]\n",
    "        predictions.append(\"\".join(list_to_label(locs)))\n",
    "    return predictions\n",
    "\n",
    "\n",
    "def list_to_label(list):\n",
    "    return [train_dict[x[0]] for x in list]\n",
    "\n",
    "\n",
    "def getTestImage(path):\n",
    "    image = np.array(Image.open('{}'.format(path)))\n",
    "    image = cv2.resize(image, (IMAGE_DIMS[1], IMAGE_DIMS[0]))\n",
    "    plot_image(image)\n",
    "    image = img_to_array(image)\n",
    "    return np.array([image / 255.0])"
   ]
  },
  {
   "cell_type": "code",
   "execution_count": 45,
   "metadata": {},
   "outputs": [
    {
     "data": {
      "image/png": "[encoded data removed]",
      "text/plain": [
       "<Figure size 432x288 with 1 Axes>"
      ]
     },
     "metadata": {
      "needs_background": "light"
     },
     "output_type": "display_data"
    },
    {
     "data": {
      "text/plain": [
       "['827364']"
      ]
     },
     "execution_count": 45,
     "metadata": {},
     "output_type": "execute_result"
    }
   ],
   "source": [
    "img = getTestImage('abc.jpg')\n",
    "\n",
    "pred = model.predict(img)\n",
    "predictions = predict_label(pred)\n",
    "predictions"
   ]
  },
  {
   "cell_type": "code",
   "execution_count": null,
   "metadata": {},
   "outputs": [],
   "source": []
  }
 ],
 "metadata": {
  "kernelspec": {
   "display_name": "Python 3",
   "language": "python",
   "name": "python3"
  },
  "language_info": {
   "codemirror_mode": {
    "name": "ipython",
    "version": 3
   },
   "file_extension": ".py",
   "mimetype": "text/x-python",
   "name": "python",
   "nbconvert_exporter": "python",
   "pygments_lexer": "ipython3",
   "version": "3.5.2"
  },
  "widgets": {
   "state": {},
   "version": "1.1.2"
  }
 },
 "nbformat": 4,
 "nbformat_minor": 2
}
